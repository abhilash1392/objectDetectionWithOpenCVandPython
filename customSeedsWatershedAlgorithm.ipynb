{
 "metadata": {
  "language_info": {
   "codemirror_mode": {
    "name": "ipython",
    "version": 3
   },
   "file_extension": ".py",
   "mimetype": "text/x-python",
   "name": "python",
   "nbconvert_exporter": "python",
   "pygments_lexer": "ipython3",
   "version": "3.8.2-final"
  },
  "orig_nbformat": 2,
  "kernelspec": {
   "name": "Python 3.8.2 64-bit ('cvenv')",
   "display_name": "Python 3.8.2 64-bit ('cvenv')",
   "metadata": {
    "interpreter": {
     "hash": "0bd3f370a53ad5aa18ea882fb918a0eada17b81c5c3f12640cc0c98861e07fab"
    }
   }
  }
 },
 "nbformat": 4,
 "nbformat_minor": 2,
 "cells": [
  {
   "cell_type": "code",
   "execution_count": 1,
   "metadata": {},
   "outputs": [],
   "source": [
    "import cv2\n",
    "import matplotlib.pyplot as plt \n",
    "import numpy as np \n",
    "%matplotlib inline"
   ]
  },
  {
   "cell_type": "code",
   "execution_count": 4,
   "metadata": {},
   "outputs": [],
   "source": [
    "road=cv2.imread(r'/home/abhilash/Coding/computervision/objectDetectionWithOpenCVandPython/DATA/road_image.jpg')\n",
    "roadCopy=np.copy(road)"
   ]
  },
  {
   "cell_type": "code",
   "execution_count": 5,
   "metadata": {},
   "outputs": [],
   "source": [
    "markerImage=np.zeros(road.shape[:2],dtype=np.int32)\n",
    "segments=np.zeros(road.shape,dtype=np.uint8)\n"
   ]
  },
  {
   "cell_type": "code",
   "execution_count": 6,
   "metadata": {},
   "outputs": [
    {
     "output_type": "execute_result",
     "data": {
      "text/plain": "(600, 800)"
     },
     "metadata": {},
     "execution_count": 6
    }
   ],
   "source": [
    "markerImage.shape"
   ]
  },
  {
   "cell_type": "code",
   "execution_count": 7,
   "metadata": {},
   "outputs": [
    {
     "output_type": "execute_result",
     "data": {
      "text/plain": "(600, 800, 3)"
     },
     "metadata": {},
     "execution_count": 7
    }
   ],
   "source": [
    "segments.shape"
   ]
  },
  {
   "cell_type": "code",
   "execution_count": 8,
   "metadata": {},
   "outputs": [],
   "source": [
    "from matplotlib import cm"
   ]
  },
  {
   "cell_type": "code",
   "execution_count": 9,
   "metadata": {},
   "outputs": [],
   "source": [
    "def create_rgb(i):\n",
    "    return tuple(np.array(cm.tab10(i)[:3])*255)"
   ]
  },
  {
   "cell_type": "code",
   "execution_count": 10,
   "metadata": {},
   "outputs": [],
   "source": [
    "colors=[]\n",
    "for i in range(10):\n",
    "    colors.append(create_rgb(i))\n",
    "\n"
   ]
  },
  {
   "cell_type": "code",
   "execution_count": 11,
   "metadata": {},
   "outputs": [
    {
     "output_type": "execute_result",
     "data": {
      "text/plain": "[(31.0, 119.0, 180.0),\n (255.0, 127.0, 14.0),\n (44.0, 160.0, 44.0),\n (214.0, 39.0, 40.0),\n (148.0, 103.0, 189.0),\n (140.0, 86.0, 75.0),\n (227.0, 119.0, 194.0),\n (127.0, 127.0, 127.0),\n (188.0, 189.0, 34.0),\n (23.0, 190.0, 207.0)]"
     },
     "metadata": {},
     "execution_count": 11
    }
   ],
   "source": [
    "colors"
   ]
  },
  {
   "cell_type": "code",
   "execution_count": 13,
   "metadata": {},
   "outputs": [],
   "source": [
    "###\n",
    "# GLOBAL VARIABLES\n",
    "# COLOR CHOICE\n",
    "nMarkers=10\n",
    "currentMarker=1\n",
    "marksUpdated=False"
   ]
  },
  {
   "cell_type": "code",
   "execution_count": 15,
   "metadata": {},
   "outputs": [],
   "source": [
    "# DEF Mouse Callback function\n",
    "def mouse_callback(event,x,y,flags,param):\n",
    "    global marks_updated\n",
    "\n",
    "    if event ==cv2.EVENT_LBUTTONDOWN:\n",
    "        cv2.circle(markerImage,(x,y),10,(currentMarker),-1)\n",
    "        cv2.circle(roadCopy,(x,y),10,colors[currentMarker],-1)\n",
    "        marksUpdated=True\n"
   ]
  },
  {
   "cell_type": "code",
   "execution_count": 18,
   "metadata": {},
   "outputs": [],
   "source": [
    "# WHILE TRUE\n",
    "cv2.namedWindow('Road Image')\n",
    "cv2.setMouseCallback('Road Image',mouse_callback)\n",
    "\n",
    "while True:\n",
    "    cv2.imshow('Watershed Segments',segments)\n",
    "    cv2.imshow('Road Image',roadCopy)\n",
    "\n",
    "    # CLOSE ALL WINDOWS\n",
    "    k=cv2.waitKey(1)\n",
    "\n",
    "    if k==27:\n",
    "        break\n",
    "    # CLEARING ALL COLORS C KEY\n",
    "    elif k==ord('c'):\n",
    "        roadCopy=road.copy()\n",
    "        markerImage=np.zeros(road.shape[:2],dtype=np.int32)\n",
    "        segments=np.zeros(road.shape,dtype=np.uint8)\n",
    "    # Update the color choice\n",
    "    elif k>0 and chr(k).isdigit():\n",
    "        currentMarker=int(chr(k))\n",
    "\n",
    "    if marksUpdated:\n",
    "        markerImageCopy=markerImage.copy()\n",
    "        cv2.watershed(road,markerImageCopy)\n",
    "\n",
    "        segments=np.zeros(road.shape,dtype=np.uint8)\n",
    "\n",
    "        for colorInd in nMarkers:\n",
    "            segments[markerImageCopy==(colorInd)]=colors[colorInd] \n",
    "\n",
    "\n",
    "\n",
    "\n",
    "cv2.destroyAllWindows()"
   ]
  }
 ]
}